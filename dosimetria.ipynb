{
 "cells": [
  {
   "metadata": {},
   "cell_type": "markdown",
   "source": [
    "# Dosimetria\n",
    "\n",
    "Calculadora simples de dosimetria da pena com base na doutrina vigente.\n",
    "\n",
    "# Como funciona\n",
    "\n",
    "A pena é calculada na 1ª fase com base nos 8 critérios\n",
    "do [artigo 59 do CP](https://www.planalto.gov.br/ccivil_03/LEIS/1980-1988/L7209.htm#art59).\n",
    "\n",
    "Já a 2ª fase leva em consideração os artigos 61...\n"
   ],
   "id": "b66cd06b6aa7f03c"
  },
  {
   "metadata": {},
   "cell_type": "markdown",
   "source": "Definição de constantes base para os cálculos.",
   "id": "25229091b86d4665"
  },
  {
   "cell_type": "code",
   "id": "initial_id",
   "metadata": {
    "collapsed": true,
    "ExecuteTime": {
     "end_time": "2024-04-23T10:19:15.403576Z",
     "start_time": "2024-04-23T10:19:15.400836Z"
    }
   },
   "source": [
    "WEIGHT_FIRST_STEP = 1 / 8  # Fração de cada critério da primeira fase.\n",
    "\n",
    "WEIGHT_SECOND_STEP = 1 / 6  # Fração de cada critério da segunda fase.\n",
    "\n",
    "DAYS_IN_MONTH = 30  # Dias em um mês.\n",
    "\n",
    "MONTHS_IN_YEAR = 12  # Meses em um ano.\n",
    "\n",
    "DAYS_IN_YEAR = DAYS_IN_MONTH * MONTHS_IN_YEAR  # Dias em um ano."
   ],
   "outputs": [],
   "execution_count": 20
  },
  {
   "metadata": {},
   "cell_type": "markdown",
   "source": "Define uma classe de sentença para armazenar e manipular os dados da sentença. ",
   "id": "a81b05fd68f0d3b4"
  },
  {
   "metadata": {
    "ExecuteTime": {
     "end_time": "2024-04-23T10:19:15.436236Z",
     "start_time": "2024-04-23T10:19:15.430879Z"
    }
   },
   "cell_type": "code",
   "source": [
    "class Sentence:\n",
    "    \"\"\"\n",
    "    Classe de armazenamento e manipulação de sentenças.\n",
    "    \"\"\"\n",
    "\n",
    "    def __init__(self):\n",
    "        self.raw_days: int = 0\n",
    "        self.years: int = 0\n",
    "        self.months: int = 0\n",
    "        self.raw_months: int = 0\n",
    "        self.days: int = 0\n",
    "\n",
    "    def __update(self):\n",
    "        \"\"\"\n",
    "        Atualiza a sentença com base nos dias absolutos.\n",
    "        \"\"\"\n",
    "\n",
    "        self.days = self.raw_days % DAYS_IN_MONTH\n",
    "        self.raw_months = self.raw_days // DAYS_IN_MONTH\n",
    "        self.months = self.raw_months % MONTHS_IN_YEAR\n",
    "        self.years = self.raw_months // MONTHS_IN_YEAR\n",
    "\n",
    "    def adjust(self, days: int):\n",
    "        \"\"\"\n",
    "        Ajusta a sentença conforme a quantidade dada de dias.\n",
    "\n",
    "        :param days: Dias para ajustar a sentença.\n",
    "        :return: Sentença atualizada.\n",
    "        \"\"\"\n",
    "\n",
    "        self.raw_days += days\n",
    "        self.__update()\n",
    "        return self\n",
    "\n",
    "    def to_str(self, *, raw_days: bool = False, start: bool = True, end: bool = True):\n",
    "        \"\"\"\n",
    "        Converte uma sentença para uma string formatada.\n",
    "\n",
    "        :param raw_days: Mostrar apenas os dias absolutos.\n",
    "        :param start: Formatar como início de frase.\n",
    "        :param end: Formatar como fim de frase.\n",
    "        :return: String formatada.\n",
    "        \"\"\"\n",
    "\n",
    "        ret_str = \"\"\n",
    "\n",
    "        if start:\n",
    "            ret_str += \"A pena é de \"\n",
    "\n",
    "        if raw_days or self.raw_days == 0:\n",
    "            ret_str += f\"{self.raw_days} dias\"\n",
    "        else:\n",
    "            if self.years:\n",
    "                ret_str += f\"{self.years} anos\"\n",
    "            if self.months and self.days:\n",
    "                ret_str += (\", \" if self.years else \"\") + f\"{self.months} meses\"\n",
    "            elif self.months:\n",
    "                ret_str += (\" e \" if self.years else \"\") + f\"{self.months} meses\"\n",
    "            if self.days:\n",
    "                ret_str += (\" e \" if (self.years or self.months) else \"\") + f\"{self.days} dias\"\n",
    "\n",
    "        return ret_str + (\".\" if end else \"\")\n"
   ],
   "id": "ffb55cc8652e8dd8",
   "outputs": [],
   "execution_count": 21
  },
  {
   "metadata": {},
   "cell_type": "markdown",
   "source": "Define uma classe de crime, que armazena uma sentença a processa.",
   "id": "3fcfeeae508107c"
  },
  {
   "metadata": {
    "ExecuteTime": {
     "end_time": "2024-04-23T10:19:15.442234Z",
     "start_time": "2024-04-23T10:19:15.436320Z"
    }
   },
   "cell_type": "code",
   "source": [
    "class Crime:\n",
    "    \"\"\"\n",
    "    Classe para armazenar e manipular um crime com base em sua dosimetria.\n",
    "    \"\"\"\n",
    "\n",
    "    def __init__(self, *, name: str = None, min_sentence: str, max_sentence: str):\n",
    "        \"\"\"\n",
    "        Cria um crime para dosimetria.\n",
    "        \n",
    "        :param name: Nome do crime, opcional.\n",
    "        :param min_sentence: Pena mínima.\n",
    "        :param max_sentence: Pena máxima.\n",
    "        \"\"\"\n",
    "\n",
    "        min_amount = int(min_sentence[:-1])\n",
    "        max_amount = int(max_sentence[:-1])\n",
    "\n",
    "        self.name = name.strip().lower() if name is not None else None\n",
    "        self.__evaluated_steps_mask: int = 0\n",
    "        self.min_sentence_days = (\n",
    "                min_amount * DAYS_IN_MONTH) if min_sentence[-1] == \"m\" else min_amount * DAYS_IN_YEAR\n",
    "        self.max_sentence_days = (\n",
    "                max_amount * DAYS_IN_MONTH) if max_sentence[-1] == \"m\" else max_amount * DAYS_IN_YEAR\n",
    "        self.sentence = Sentence()\n",
    "        self.sentence.adjust(self.min_sentence_days)\n",
    "        print(f\"Para o crime {f'de {self.name}' if self.name else 'avaliado'}, pena mínima é de \"\n",
    "              f\"{self.sentence.to_str(start=False)}\")\n",
    "\n",
    "    def evaluate_first_step(self, first_step_valid_criteria: int):\n",
    "        \"\"\"\n",
    "        Realiza a dosimetria da primeira fase.\n",
    "        \n",
    "        :param first_step_valid_criteria: Quantidade de critérios avaliados negativamente na primeira fase.\n",
    "        \"\"\"\n",
    "\n",
    "        if self.__evaluated_steps_mask & 1:\n",
    "            print(f\"{'Crime' if self.name is None else self.name.capitalize()} já avaliado na primeira fase.\")\n",
    "            return\n",
    "\n",
    "        self.__evaluated_steps_mask |= 1 << 0\n",
    "\n",
    "        sentence_range_days = self.max_sentence_days - self.min_sentence_days\n",
    "        criteria_weight_days = sentence_range_days * WEIGHT_FIRST_STEP\n",
    "        first_step_delta_days = int(criteria_weight_days * max(min(8, first_step_valid_criteria), 0))\n",
    "\n",
    "        self.sentence.adjust(first_step_delta_days)\n",
    "        print(f\"A pena após valoração da 1ª fase é de {self.sentence.to_str(start=False, end=False)} \"\n",
    "              f\"(+{first_step_delta_days / DAYS_IN_MONTH:.1f} meses).\")\n",
    "\n",
    "    def evaluate_second_step(self, *, aggravating_count: int, mitigating_count: int):\n",
    "        \"\"\"\n",
    "        Realiza a dosimetria da segunda fase.\n",
    "        \n",
    "        :param aggravating_count: Quantidade de agravantes.\n",
    "        :param mitigating_count: Quantidade de atenuantes.\n",
    "        \"\"\"\n",
    "\n",
    "        if not self.__evaluated_steps_mask & 1:\n",
    "            print(f\"O {self.name if self.name else 'crime'} ainda não foi avaliado na primeira fase.\")\n",
    "            return\n",
    "\n",
    "        if self.__evaluated_steps_mask & 1 << 1:\n",
    "            print(f\"{self.name.capitalize() if self.name else 'Crime'} já avaliado na segunda fase.\")\n",
    "            return\n",
    "\n",
    "        self.__evaluated_steps_mask |= 1 << 1\n",
    "\n",
    "        criteria_weight_days = self.sentence.raw_days * WEIGHT_SECOND_STEP\n",
    "        second_step_delta_days = int(criteria_weight_days * (aggravating_count - mitigating_count))\n",
    "\n",
    "        self.sentence.adjust(second_step_delta_days)\n",
    "        print(f\"A pena após valoração da 2ª fase é de {self.sentence.to_str(start=False, end=False)} \"\n",
    "              f\"({'+' if second_step_delta_days >= 0 else ''}{second_step_delta_days / DAYS_IN_MONTH:.1f} meses).\")\n",
    "        "
   ],
   "id": "ee32d36221156011",
   "outputs": [],
   "execution_count": 22
  },
  {
   "metadata": {},
   "cell_type": "markdown",
   "source": [
    "# Utilizando a calculadora\n",
    "Para realizar um cálculo de dosimetria, o primeiro passo é determinar o intervalo base da sentença para o crime. Para isso, determine abaixo o tempo mínimo da pena e o tempo máximo.\n",
    "A formatação deve seguir a seguinte forma:\n",
    "\n",
    "| **Tempo** | **Formatação** |\n",
    "|:---------:|:--------------:|\n",
    "|  2 anos   |     `\"2a\"`     |\n",
    "|  10 anos  |    `\"10a\"`     |\n",
    "|  2 meses  |     `\"2m\"`     |\n",
    "| 10 meses  |    `\"10m\"`     |\n",
    "\n",
    "Ou seja, deve-se inserir o tempo e logo em seguida um indicador de anos ('*a*') ou meses ('*m*'). Com isso, podemos criar o crime que será avaliado:"
   ],
   "id": "f31616409a49316a"
  },
  {
   "metadata": {
    "ExecuteTime": {
     "end_time": "2024-04-23T10:19:15.445278Z",
     "start_time": "2024-04-23T10:19:15.442234Z"
    }
   },
   "cell_type": "code",
   "source": [
    "minimum_sentence = \"6a\"  # Pena mínima\n",
    "maximum_sentence = \"20a\"  # Pena máxima\n",
    "\n",
    "test_crime = Crime(min_sentence=minimum_sentence, max_sentence=maximum_sentence)"
   ],
   "id": "2fe766e5c8a40ade",
   "outputs": [
    {
     "name": "stdout",
     "output_type": "stream",
     "text": [
      "Para o crime avaliado, pena mínima é de 6 anos.\n"
     ]
    }
   ],
   "execution_count": 23
  },
  {
   "metadata": {},
   "cell_type": "markdown",
   "source": "Agora, na primeira fase da dosimetria devemos indicar quantos, dos 8 critérios, foram avaliados negativamente, e realizamos a avaliação:",
   "id": "6959e5f6eb9f0d50"
  },
  {
   "metadata": {
    "ExecuteTime": {
     "end_time": "2024-04-23T10:19:15.448329Z",
     "start_time": "2024-04-23T10:19:15.446279Z"
    }
   },
   "cell_type": "code",
   "source": [
    "first_step_criteria_count = 5  # Critérios avaliados negativamente.\n",
    "\n",
    "test_crime.evaluate_first_step(first_step_criteria_count)"
   ],
   "id": "43a089bad40dfa0b",
   "outputs": [
    {
     "name": "stdout",
     "output_type": "stream",
     "text": [
      "A pena após valoração da 1ª fase é de 14 anos e 9 meses (+105.0 meses).\n"
     ]
    }
   ],
   "execution_count": 24
  },
  {
   "metadata": {},
   "cell_type": "markdown",
   "source": "Para a segunda fase, devemos indicar quantas agravantes e atenuantes foram contabilizadas, respectivamente, e realizamos a avaliação:",
   "id": "604c556efece968b"
  },
  {
   "metadata": {
    "ExecuteTime": {
     "end_time": "2024-04-23T10:19:15.450927Z",
     "start_time": "2024-04-23T10:19:15.448329Z"
    }
   },
   "cell_type": "code",
   "source": [
    "aggravating_factors = 2  # Agravantes\n",
    "mitigating_factors = 1  # Atenuantes\n",
    "\n",
    "test_crime.evaluate_second_step(aggravating_count=aggravating_factors, mitigating_count=mitigating_factors)"
   ],
   "id": "40a4d4bf1f0c3e9a",
   "outputs": [
    {
     "name": "stdout",
     "output_type": "stream",
     "text": [
      "A pena após valoração da 2ª fase é de 17 anos, 2 meses e 15 dias (+29.5 meses).\n"
     ]
    }
   ],
   "execution_count": 25
  },
  {
   "metadata": {},
   "cell_type": "markdown",
   "source": "Ao fim, temos a dosimetria da pena:",
   "id": "add330b0dc116afc"
  },
  {
   "metadata": {
    "ExecuteTime": {
     "end_time": "2024-04-23T10:19:15.454173Z",
     "start_time": "2024-04-23T10:19:15.450927Z"
    }
   },
   "cell_type": "code",
   "source": "test_crime.sentence.to_str()",
   "id": "ba389dc0353c14e4",
   "outputs": [
    {
     "data": {
      "text/plain": [
       "'A pena é de 17 anos, 2 meses e 15 dias.'"
      ]
     },
     "execution_count": 26,
     "metadata": {},
     "output_type": "execute_result"
    }
   ],
   "execution_count": 26
  }
 ],
 "metadata": {
  "kernelspec": {
   "display_name": "Python 3",
   "language": "python",
   "name": "python3"
  },
  "language_info": {
   "codemirror_mode": {
    "name": "ipython",
    "version": 2
   },
   "file_extension": ".py",
   "mimetype": "text/x-python",
   "name": "python",
   "nbconvert_exporter": "python",
   "pygments_lexer": "ipython2",
   "version": "2.7.6"
  }
 },
 "nbformat": 4,
 "nbformat_minor": 5
}
