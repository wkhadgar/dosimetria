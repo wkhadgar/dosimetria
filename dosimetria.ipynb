{
 "metadata": {
  "kernelspec": {
   "name": "python3",
   "display_name": "Python 3 (ipykernel)",
   "language": "python"
  },
  "language_info": {
   "name": "python",
   "version": "3.10.12",
   "mimetype": "text/x-python",
   "codemirror_mode": {
    "name": "ipython",
    "version": 3
   },
   "pygments_lexer": "ipython3",
   "nbconvert_exporter": "python",
   "file_extension": ".py"
  }
 },
 "nbformat_minor": 5,
 "nbformat": 4,
 "cells": [
  {
   "cell_type": "markdown",
   "source": [
    "# Dosimetria\n",
    "\n",
    "Calculadora simples de dosimetria da pena com base na doutrina vigente.\n",
    "\n",
    "# Como funciona\n",
    "\n",
    "A pena é calculada na 1ª fase com base nos 8 critérios\n",
    "do [artigo 59 do CP](https://www.planalto.gov.br/ccivil_03/LEIS/1980-1988/L7209.htm#art59).\n",
    "\n",
    "Já a 2ª fase considera os artigos \n",
    "[61 a 67 do CP](https://www.planalto.gov.br/ccivil_03/LEIS/1980-1988/L7209.htm#art61)\n",
    "\n",
    "Na 3ª fase, são consideradas as causas de aumento e diminuição de pena específicas, descritas nas partes Especial e Geral do CP."
   ],
   "metadata": {
    "slideshow": {
     "slide_type": "fragment"
    },
    "tags": []
   },
   "id": "b66cd06b6aa7f03c"
  },
  {
   "cell_type": "code",
   "source": "# Importa a classe base para o uso da calculadora.\nfrom dosimetria import Crime",
   "metadata": {
    "tags": [],
    "trusted": true,
    "ExecuteTime": {
     "end_time": "2024-04-28T18:24:10.351642Z",
     "start_time": "2024-04-28T18:24:10.332749Z"
    }
   },
   "id": "initial_id",
   "outputs": [],
   "execution_count": 1
  },
  {
   "cell_type": "markdown",
   "source": [
    "# Utilizando a calculadora\n",
    "Para realizar um cálculo de dosimetria, o primeiro passo é determinar o intervalo base da sentença para o crime. Para isso, determine abaixo o tempo mínimo da pena e o tempo máximo.\n",
    "A formatação deve seguir a seguinte forma:\n",
    "\n",
    "| **Tempo** | **Formatação** |\n",
    "|:---------:|:--------------:|\n",
    "|  2 anos   |     `\"2a\"`     |\n",
    "|  10 anos  |    `\"10a\"`     |\n",
    "|  2 meses  |     `\"2m\"`     |\n",
    "| 10 meses  |    `\"10m\"`     |\n",
    "|   1 dia   |     `\"1d\"`     |\n",
    "|  20 dias  |    `\"20d\"`     |\n",
    "\n",
    "Ou seja, deve-se inserir o tempo e logo em seguida um indicador de anos ('*a*'), meses ('*m*') ou dias ('*d*'). Com isso, podemos criar o crime que será avaliado:"
   ],
   "metadata": {},
   "id": "f31616409a49316a"
  },
  {
   "cell_type": "code",
   "source": [
    "minimum_sentence = \"6a\"  # Pena mínima\n",
    "maximum_sentence = \"20a\"  # Pena máxima\n",
    "\n",
    "crime = Crime(min_sentence=minimum_sentence, max_sentence=maximum_sentence)"
   ],
   "metadata": {
    "trusted": true,
    "ExecuteTime": {
     "end_time": "2024-04-28T18:24:10.354682Z",
     "start_time": "2024-04-28T18:24:10.351642Z"
    }
   },
   "id": "2fe766e5c8a40ade",
   "outputs": [
    {
     "name": "stdout",
     "output_type": "stream",
     "text": [
      "Para o crime avaliado, pena mínima é de 6 anos.\n"
     ]
    }
   ],
   "execution_count": 2
  },
  {
   "cell_type": "markdown",
   "source": "Agora, na primeira fase da dosimetria devemos indicar quantos, dos 8 critérios, foram avaliados negativamente, e realizamos a avaliação:",
   "metadata": {},
   "id": "6959e5f6eb9f0d50"
  },
  {
   "cell_type": "code",
   "source": [
    "first_step_criteria_count = 5  # Critérios avaliados negativamente.\n",
    "\n",
    "crime.evaluate_first_step(first_step_criteria_count)"
   ],
   "metadata": {
    "trusted": true,
    "ExecuteTime": {
     "end_time": "2024-04-28T18:24:10.357649Z",
     "start_time": "2024-04-28T18:24:10.354682Z"
    }
   },
   "id": "43a089bad40dfa0b",
   "outputs": [
    {
     "name": "stdout",
     "output_type": "stream",
     "text": [
      "\n",
      "A pena após valoração da 1ª fase é de 14 anos e 9 meses (+105.0 meses).\n"
     ]
    }
   ],
   "execution_count": 3
  },
  {
   "cell_type": "markdown",
   "source": "Para a segunda fase, devemos indicar quantas agravantes e atenuantes foram contabilizadas, respectivamente, e realizamos a avaliação:",
   "metadata": {},
   "id": "604c556efece968b"
  },
  {
   "cell_type": "code",
   "source": [
    "aggravating_factors = 2  # Agravantes\n",
    "mitigating_factors = 1  # Atenuantes\n",
    "\n",
    "crime.evaluate_second_step(aggravating_count=aggravating_factors, mitigating_count=mitigating_factors)"
   ],
   "metadata": {
    "trusted": true,
    "ExecuteTime": {
     "end_time": "2024-04-28T18:24:10.361298Z",
     "start_time": "2024-04-28T18:24:10.357649Z"
    }
   },
   "id": "40a4d4bf1f0c3e9a",
   "outputs": [
    {
     "name": "stdout",
     "output_type": "stream",
     "text": [
      "\n",
      "A pena após valoração da 2ª fase é de 17 anos, 2 meses e 15 dias (+29.5 meses).\n"
     ]
    }
   ],
   "execution_count": 4
  },
  {
   "metadata": {},
   "cell_type": "markdown",
   "source": "Na terceira fase, deve-se passar uma lista das strings de tempo ou frações de aumento e diminuição de pena, respectivamente, e realizamos as valorações em cascata:",
   "id": "164d5eba1c4bb0c5"
  },
  {
   "metadata": {
    "ExecuteTime": {
     "end_time": "2024-04-28T18:24:10.364575Z",
     "start_time": "2024-04-28T18:24:10.361298Z"
    }
   },
   "cell_type": "code",
   "source": [
    "# Lista de frações dos majorantes (frações do tipo a/b ou tempo literal \"1d|m|a\")\n",
    "majors_list = [\n",
    "    1 / 2,\n",
    "    2 / 3,\n",
    "    \"2m\",\n",
    "]\n",
    "\n",
    "# Lista de frações dos minorantes (frações do tipo a/b ou tempo literal \"1d|m|a\")\n",
    "minors_list = [\n",
    "    1 / 4,\n",
    "    1 / 6,\n",
    "    1 / 2,\n",
    "    \"1a\",\n",
    "]\n",
    "\n",
    "crime.evaluate_third_step(majoring_list=majors_list, minoring_list=minors_list)"
   ],
   "id": "6db5f341ea0f4756",
   "outputs": [
    {
     "name": "stdout",
     "output_type": "stream",
     "text": [
      "\n",
      "Majorantes:\n",
      "\tO 1º majorante foi aplicado e levou a pena a 25 anos, 9 meses e 22 dias (+103.2 meses).\n",
      "\tO 2º majorante foi aplicado e levou a pena a 43 anos e 6 dias (+206.5 meses).\n",
      "\tO 3º majorante foi aplicado e levou a pena a 43 anos, 2 meses e 6 dias (+2.0 meses).\n",
      "Minorantes:\n",
      "\tO 1º minorante foi aplicado e levou a pena a 32 anos, 4 meses e 20 dias (-129.5 meses).\n",
      "\tO 2º minorante foi aplicado e levou a pena a 26 anos, 11 meses e 27 dias (-64.8 meses).\n",
      "\tO 3º minorante foi aplicado e levou a pena a 13 anos, 5 meses e 29 dias (-161.9 meses).\n",
      "\tO 4º minorante foi aplicado e levou a pena a 12 anos, 5 meses e 29 dias (-12.0 meses).\n",
      "\n",
      "A pena após valoração da 3ª fase é de 12 anos, 5 meses e 29 dias.\n"
     ]
    }
   ],
   "execution_count": 5
  },
  {
   "cell_type": "markdown",
   "source": "Ao fim, temos a dosimetria da pena:",
   "metadata": {},
   "id": "add330b0dc116afc"
  },
  {
   "cell_type": "code",
   "source": "print(f\"\\n{crime.sentence.to_str()}\")",
   "metadata": {
    "tags": [],
    "trusted": true,
    "ExecuteTime": {
     "end_time": "2024-04-28T18:24:10.367399Z",
     "start_time": "2024-04-28T18:24:10.364575Z"
    }
   },
   "id": "ba389dc0353c14e4",
   "outputs": [
    {
     "name": "stdout",
     "output_type": "stream",
     "text": [
      "\n",
      "A pena é de 12 anos, 5 meses e 29 dias.\n"
     ]
    }
   ],
   "execution_count": 6
  }
 ]
}
