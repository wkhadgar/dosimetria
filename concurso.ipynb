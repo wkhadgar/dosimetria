{
 "metadata": {
  "kernelspec": {
   "name": "python3",
   "display_name": "Python 3 (ipykernel)",
   "language": "python"
  },
  "language_info": {
   "name": "python",
   "version": "3.10.12",
   "mimetype": "text/x-python",
   "codemirror_mode": {
    "name": "ipython",
    "version": 3
   },
   "pygments_lexer": "ipython3",
   "nbconvert_exporter": "python",
   "file_extension": ".py"
  }
 },
 "nbformat_minor": 5,
 "nbformat": 4,
 "cells": [
  {
   "cell_type": "code",
   "source": [
    "# Importa a classe base para o uso da calculadora.\n",
    "from dosimetria import Sentence"
   ],
   "metadata": {
    "tags": [],
    "trusted": true,
    "ExecuteTime": {
     "end_time": "2025-03-11T04:40:55.510516Z",
     "start_time": "2025-03-11T04:40:55.501339Z"
    }
   },
   "id": "initial_id",
   "outputs": [],
   "execution_count": 1
  },
  {
   "cell_type": "markdown",
   "source": [
    "# Utilizando a calculadora auxiliar de concurso material\n",
    "Para realizar um cálculo de concurso material de crimes, basta somar as penas:\n",
    "\n",
    "|    **Tempo**     | **Formatação** |\n",
    "|:----------------:|:--------------:|\n",
    "| 2 anos e 3 meses |   `\"2a,3m\"`    |\n",
    "|     10 anos      |    `\"10a\"`     |\n",
    "| 2 meses e 5 dias |   `\"2m,5d\"`    |\n",
    "|     10 meses     |    `\"10m\"`     |\n",
    "|      1 dia       |     `\"1d\"`     |\n",
    "|     20 dias      |    `\"20d\"`     |\n",
    "\n",
    "Concurso = `[\"2a,3m\", \"10a\", \"2m,5d\", \"1d\", \"20d\"]`"
   ],
   "metadata": {},
   "id": "f31616409a49316a"
  },
  {
   "metadata": {
    "tags": [],
    "trusted": true,
    "ExecuteTime": {
     "end_time": "2025-03-11T04:49:10.734724Z",
     "start_time": "2025-03-11T04:49:10.725363Z"
    }
   },
   "cell_type": "code",
   "source": [
    "dias_penas_soma = [\n",
    "    \"2a,3m\",\n",
    "    \"10a\",\n",
    "    \"2m,5d\",\n",
    "    \"1d\",\n",
    "    \"20d\",\n",
    "]\n",
    "\n",
    "print(f\"\\n{Sentence().adjust(','.join(dias_penas_soma)).to_str()}\")"
   ],
   "id": "ba389dc0353c14e4",
   "outputs": [
    {
     "name": "stdout",
     "output_type": "stream",
     "text": [
      "\n",
      "A pena é de 12 anos, 5 meses e 26 dias [4496 dias].\n"
     ]
    }
   ],
   "execution_count": 11
  }
 ]
}
